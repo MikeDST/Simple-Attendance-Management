{
 "cells": [
  {
   "cell_type": "markdown",
   "metadata": {},
   "source": [
    "TEST"
   ]
  },
  {
   "cell_type": "code",
   "execution_count": null,
   "metadata": {},
   "outputs": [],
   "source": [
    "import requests\n",
    "session = requests.Session()\n",
    "\n",
    "data = {\n",
    "    'username': 'mikedsttheadmin', \n",
    "    'password': '12345asd'\n",
    "    }\n",
    "response = session.post(\"http://localhost:8090/signin\", json=data)\n",
    "\n",
    "response2 = session.get(\"http://localhost:8090/beans\")\n",
    "response2.json()"
   ]
  },
  {
   "cell_type": "markdown",
   "metadata": {},
   "source": [
    "# API TEST"
   ]
  },
  {
   "cell_type": "code",
   "execution_count": 68,
   "metadata": {},
   "outputs": [],
   "source": [
    "import requests\n",
    "\n",
    "def getMethod(mapping, session):\n",
    "    response = session.get(\"http://localhost:8090\" + mapping)\n",
    "\n",
    "    try:\n",
    "        data = response.json()\n",
    "    except requests.JSONDecodeError:\n",
    "        data = None\n",
    "    return data"
   ]
  },
  {
   "cell_type": "markdown",
   "metadata": {},
   "source": [
    "# USERS"
   ]
  },
  {
   "cell_type": "code",
   "execution_count": 69,
   "metadata": {},
   "outputs": [],
   "source": [
    "# login\n",
    "def login(username, password, session):\n",
    "    data = {\n",
    "    'username': username, \n",
    "    'password': password\n",
    "    }\n",
    "    session.post(\"http://localhost:8090/signin\", json=data)\n",
    "    return session"
   ]
  },
  {
   "cell_type": "markdown",
   "metadata": {},
   "source": [
    "# Get bean"
   ]
  },
  {
   "cell_type": "code",
   "execution_count": null,
   "metadata": {},
   "outputs": [
    {
     "data": {
      "text/plain": [
       "{'timestamp': '2025-03-07T03:30:38.405+00:00',\n",
       " 'message': 'Operation successful',\n",
       " 'data': [{'id': '2a57e313-a4bc-417a-b51a-8bac10109c62',\n",
       "   'name': 'Dusk Bean',\n",
       "   'in_stock': True,\n",
       "   'price': 19.67,\n",
       "   'sold': 0,\n",
       "   'publish_date': '2024-12-26T00:00:00'},\n",
       "  {'id': '72912ff0-7ec7-407e-a692-42850103407a',\n",
       "   'name': 'Nian Bean',\n",
       "   'in_stock': True,\n",
       "   'price': 19.67,\n",
       "   'sold': 0,\n",
       "   'publish_date': '2024-12-26T00:00:00'},\n",
       "  {'id': '945e17be-d3a9-47be-9b13-d1a55154e7cd',\n",
       "   'name': 'Ling Bean',\n",
       "   'in_stock': True,\n",
       "   'price': 19.67,\n",
       "   'sold': 0,\n",
       "   'publish_date': '2024-12-26T00:00:00'},\n",
       "  {'id': 'fef02f13-dac4-40a6-bd30-eb007b87259a',\n",
       "   'name': 'Shu Bean',\n",
       "   'in_stock': True,\n",
       "   'price': 19.67,\n",
       "   'sold': 0,\n",
       "   'publish_date': '2024-12-26T00:00:00'}]}"
      ]
     },
     "execution_count": 70,
     "metadata": {},
     "output_type": "execute_result"
    }
   ],
   "source": [
    "# Get all beans\n",
    "import requests\n",
    "session = requests.Session()\n",
    "\n",
    "logedInSession = login(\"mikedsttheadmin\", \"12345asd\", session)\n",
    "\n",
    "getMethod(\"/beans\", logedInSession)"
   ]
  },
  {
   "cell_type": "code",
   "execution_count": 71,
   "metadata": {},
   "outputs": [
    {
     "data": {
      "text/plain": [
       "{'timestamp': '2025-03-07T03:31:21.089+00:00',\n",
       " 'message': 'Operation successful',\n",
       " 'data': {'id': '945e17be-d3a9-47be-9b13-d1a55154e7cd',\n",
       "  'name': 'Ling Bean',\n",
       "  'in_stock': True,\n",
       "  'price': 19.67,\n",
       "  'sold': 0,\n",
       "  'publish_date': '2024-12-26T00:00:00'}}"
      ]
     },
     "execution_count": 71,
     "metadata": {},
     "output_type": "execute_result"
    }
   ],
   "source": [
    "# Get bean with ID\n",
    "import requests\n",
    "session = requests.Session()\n",
    "\n",
    "logedInSession = login(\"mikedsttheadmin\", \"12345asd\", session)\n",
    "\n",
    "getMethod(\"/beans/945e17be-d3a9-47be-9b13-d1a55154e7cd\", logedInSession)"
   ]
  }
 ],
 "metadata": {
  "kernelspec": {
   "display_name": "Python 3",
   "language": "python",
   "name": "python3"
  },
  "language_info": {
   "codemirror_mode": {
    "name": "ipython",
    "version": 3
   },
   "file_extension": ".py",
   "mimetype": "text/x-python",
   "name": "python",
   "nbconvert_exporter": "python",
   "pygments_lexer": "ipython3",
   "version": "3.10.11"
  }
 },
 "nbformat": 4,
 "nbformat_minor": 2
}
