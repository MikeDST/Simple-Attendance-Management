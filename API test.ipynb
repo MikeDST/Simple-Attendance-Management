{
 "cells": [
  {
   "cell_type": "markdown",
   "metadata": {},
   "source": [
    "TEST"
   ]
  },
  {
   "cell_type": "code",
   "execution_count": null,
   "metadata": {},
   "outputs": [],
   "source": [
    "import requests\n",
    "session = requests.Session()\n",
    "\n",
    "data = {\n",
    "    'username': 'mikedsttheadmin', \n",
    "    'password': '12345asd'\n",
    "    }\n",
    "response = session.post(\"http://localhost:8090/signin\", json=data)\n",
    "print(response)\n",
    "\n",
    "response2 = session.get(\"http://localhost:8090/subjects\")\n",
    "response2.text"
   ]
  },
  {
   "cell_type": "markdown",
   "metadata": {},
   "source": [
    "# API TEST"
   ]
  },
  {
   "cell_type": "code",
   "execution_count": 20,
   "metadata": {},
   "outputs": [],
   "source": [
    "import requests\n",
    "\n",
    "def getMethod(mapping, session):\n",
    "    response = session.get(\"http://localhost:8090\" + mapping)\n",
    "\n",
    "    try:\n",
    "        data = response.json()\n",
    "    except requests.JSONDecodeError:\n",
    "        data = response.text\n",
    "    return data\n",
    "\n",
    "\n",
    "def postMethod(mapping, session, data):\n",
    "    response = session.post(\"http://localhost:8090\" + mapping, json=data)\n",
    "\n",
    "    try:\n",
    "        data = response.json()\n",
    "    except requests.JSONDecodeError:\n",
    "        data = None\n",
    "    return data\n",
    "\n",
    "def putMethod(mapping, session):\n",
    "    response = session.put(\"http://localhost:8090\" + mapping)\n",
    "\n",
    "    try:\n",
    "        data = response.json()\n",
    "    except requests.JSONDecodeError:\n",
    "        data = None\n",
    "    return data\n",
    "\n",
    "def deleteMethod(mapping, session):\n",
    "    response = session.delete(\"http://localhost:8090\" + mapping)\n",
    "\n",
    "    try:\n",
    "        data = response.json()\n",
    "    except requests.JSONDecodeError:\n",
    "        data = None\n",
    "    return data"
   ]
  },
  {
   "cell_type": "markdown",
   "metadata": {},
   "source": [
    "# USERS"
   ]
  },
  {
   "cell_type": "code",
   "execution_count": 21,
   "metadata": {},
   "outputs": [],
   "source": [
    "# login\n",
    "def login(username, password, session):\n",
    "    data = {\n",
    "    'username': username, \n",
    "    'password': password\n",
    "    }\n",
    "    session.post(\"http://localhost:8090/login\", json=data)\n",
    "    return session"
   ]
  },
  {
   "cell_type": "markdown",
   "metadata": {},
   "source": [
    "# CLASS"
   ]
  },
  {
   "cell_type": "code",
   "execution_count": null,
   "metadata": {},
   "outputs": [],
   "source": []
  },
  {
   "cell_type": "markdown",
   "metadata": {},
   "source": [
    "# SUBJECT"
   ]
  },
  {
   "cell_type": "code",
   "execution_count": 33,
   "metadata": {},
   "outputs": [
    {
     "data": {
      "text/plain": [
       "{'timestamp': '2025-03-08T04:11:33.592+00:00',\n",
       " 'message': 'Operation successful',\n",
       " 'data': [{'id': '42f3c91a-f2eb-455b-a538-4c88e81c13a7', 'name': 'Math'},\n",
       "  {'id': '62fe0457-a63e-4acf-9917-994266351fc8', 'name': 'English'},\n",
       "  {'id': '6f1ec216-2309-4c73-ae24-d8841e41b96f', 'name': 'English'}]}"
      ]
     },
     "execution_count": 33,
     "metadata": {},
     "output_type": "execute_result"
    }
   ],
   "source": [
    "import requests\n",
    "session = requests.Session()\n",
    "\n",
    "logedInSession = login(\"mikedsttheadmin\", \"12345asd\", session)\n",
    "url = \"/subject\"\n",
    "\n",
    "# GET ALLS\n",
    "def getAlls(url, logedInSession):\n",
    "    url = url + \"s\"\n",
    "    return getMethod(url, logedInSession)\n",
    "\n",
    "# CREATE\n",
    "def create(url, logedInSession):\n",
    "    url = url + \"/create\"\n",
    "    data = {\n",
    "        'name': \"English\", \n",
    "    }\n",
    "    postMethod(url, logedInSession, data)\n",
    "\n",
    "\n",
    "getAlls(url, logedInSession)"
   ]
  },
  {
   "cell_type": "markdown",
   "metadata": {},
   "source": [
    "# ATTENDANCE"
   ]
  },
  {
   "cell_type": "code",
   "execution_count": null,
   "metadata": {},
   "outputs": [],
   "source": []
  },
  {
   "cell_type": "markdown",
   "metadata": {},
   "source": [
    "# Get bean"
   ]
  },
  {
   "cell_type": "code",
   "execution_count": null,
   "metadata": {},
   "outputs": [
    {
     "data": {
      "text/plain": [
       "{'timestamp': '2025-03-07T03:30:38.405+00:00',\n",
       " 'message': 'Operation successful',\n",
       " 'data': [{'id': '2a57e313-a4bc-417a-b51a-8bac10109c62',\n",
       "   'name': 'Dusk Bean',\n",
       "   'in_stock': True,\n",
       "   'price': 19.67,\n",
       "   'sold': 0,\n",
       "   'publish_date': '2024-12-26T00:00:00'},\n",
       "  {'id': '72912ff0-7ec7-407e-a692-42850103407a',\n",
       "   'name': 'Nian Bean',\n",
       "   'in_stock': True,\n",
       "   'price': 19.67,\n",
       "   'sold': 0,\n",
       "   'publish_date': '2024-12-26T00:00:00'},\n",
       "  {'id': '945e17be-d3a9-47be-9b13-d1a55154e7cd',\n",
       "   'name': 'Ling Bean',\n",
       "   'in_stock': True,\n",
       "   'price': 19.67,\n",
       "   'sold': 0,\n",
       "   'publish_date': '2024-12-26T00:00:00'},\n",
       "  {'id': 'fef02f13-dac4-40a6-bd30-eb007b87259a',\n",
       "   'name': 'Shu Bean',\n",
       "   'in_stock': True,\n",
       "   'price': 19.67,\n",
       "   'sold': 0,\n",
       "   'publish_date': '2024-12-26T00:00:00'}]}"
      ]
     },
     "execution_count": 70,
     "metadata": {},
     "output_type": "execute_result"
    }
   ],
   "source": [
    "# Get all beans\n",
    "import requests\n",
    "session = requests.Session()\n",
    "\n",
    "logedInSession = login(\"mikedsttheadmin\", \"12345asd\", session)\n",
    "\n",
    "getMethod(\"/beans\", logedInSession)"
   ]
  },
  {
   "cell_type": "code",
   "execution_count": 71,
   "metadata": {},
   "outputs": [
    {
     "data": {
      "text/plain": [
       "{'timestamp': '2025-03-07T03:31:21.089+00:00',\n",
       " 'message': 'Operation successful',\n",
       " 'data': {'id': '945e17be-d3a9-47be-9b13-d1a55154e7cd',\n",
       "  'name': 'Ling Bean',\n",
       "  'in_stock': True,\n",
       "  'price': 19.67,\n",
       "  'sold': 0,\n",
       "  'publish_date': '2024-12-26T00:00:00'}}"
      ]
     },
     "execution_count": 71,
     "metadata": {},
     "output_type": "execute_result"
    }
   ],
   "source": [
    "# Get bean with ID\n",
    "import requests\n",
    "session = requests.Session()\n",
    "\n",
    "logedInSession = login(\"mikedsttheadmin\", \"12345asd\", session)\n",
    "\n",
    "getMethod(\"/beans/945e17be-d3a9-47be-9b13-d1a55154e7cd\", logedInSession)"
   ]
  }
 ],
 "metadata": {
  "kernelspec": {
   "display_name": "Python 3",
   "language": "python",
   "name": "python3"
  },
  "language_info": {
   "codemirror_mode": {
    "name": "ipython",
    "version": 3
   },
   "file_extension": ".py",
   "mimetype": "text/x-python",
   "name": "python",
   "nbconvert_exporter": "python",
   "pygments_lexer": "ipython3",
   "version": "3.10.11"
  }
 },
 "nbformat": 4,
 "nbformat_minor": 2
}
