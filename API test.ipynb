{
 "cells": [
  {
   "cell_type": "markdown",
   "metadata": {},
   "source": [
    "TEST"
   ]
  },
  {
   "cell_type": "code",
   "execution_count": null,
   "metadata": {},
   "outputs": [],
   "source": [
    "import requests\n",
    "session = requests.Session()\n",
    "\n",
    "data = {\n",
    "    'username': 'mikedsttheadmin', \n",
    "    'password': '12345asd'\n",
    "    }\n",
    "response = session.post(\"http://localhost:8090/signin\", json=data)\n",
    "print(response)\n",
    "\n",
    "response2 = session.get(\"http://localhost:8090/subjects\")\n",
    "response2.text"
   ]
  },
  {
   "cell_type": "markdown",
   "metadata": {},
   "source": [
    "# API TEST"
   ]
  },
  {
   "cell_type": "code",
   "execution_count": 1,
   "metadata": {},
   "outputs": [],
   "source": [
    "import requests\n",
    "\n",
    "def getMethod(mapping, session):\n",
    "    response = session.get(\"http://localhost:8090\" + mapping)\n",
    "\n",
    "    try:\n",
    "        data = response.json()\n",
    "    except requests.JSONDecodeError:\n",
    "        data = response.text\n",
    "    return data\n",
    "\n",
    "\n",
    "def postMethod(mapping, session, data):\n",
    "    response = session.post(\"http://localhost:8090\" + mapping, json=data)\n",
    "\n",
    "    try:\n",
    "        data = response.json()\n",
    "    except requests.JSONDecodeError:\n",
    "        data = None\n",
    "    return data\n",
    "\n",
    "def putMethod(mapping, session):\n",
    "    response = session.put(\"http://localhost:8090\" + mapping)\n",
    "\n",
    "    try:\n",
    "        data = response.json()\n",
    "    except requests.JSONDecodeError:\n",
    "        data = None\n",
    "    return data\n",
    "\n",
    "def deleteMethod(mapping, session):\n",
    "    response = session.delete(\"http://localhost:8090\" + mapping)\n",
    "\n",
    "    try:\n",
    "        data = response.json()\n",
    "    except requests.JSONDecodeError:\n",
    "        data = None\n",
    "    return data"
   ]
  },
  {
   "cell_type": "markdown",
   "metadata": {},
   "source": [
    "# USERS"
   ]
  },
  {
   "cell_type": "code",
   "execution_count": 32,
   "metadata": {},
   "outputs": [],
   "source": [
    "# login\n",
    "def login(username, password, session):\n",
    "    data = {\n",
    "    'username': username, \n",
    "    'password': password\n",
    "    }\n",
    "    session.post(\"http://localhost:8090/login\", json=data)\n",
    "    return session"
   ]
  },
  {
   "cell_type": "code",
   "execution_count": 40,
   "metadata": {},
   "outputs": [],
   "source": [
    "# logout\n",
    "def logout(session):\n",
    "    session.post(\"http://localhost:8090/logout\")\n",
    "    return session"
   ]
  },
  {
   "cell_type": "code",
   "execution_count": 41,
   "metadata": {},
   "outputs": [
    {
     "name": "stdout",
     "output_type": "stream",
     "text": [
      "loged in\n",
      "{'timestamp': '2025-03-08T09:42:52.008+00:00', 'message': 'Operation successful', 'data': [{'id': '63681b95-ad84-49a0-ab5b-f70ef5c7857b', 'username': 'mikedsttheadmin', 'email': 'mikedst@admin.com', 'password': '$2a$12$iHt6emfLK5/TLGrlDYfUQ.3U1.IzqhUWdCJ80XylQDGZUNGU6qjg.', 'firstname': 'Mikey', 'lastname': 'The Mu', 'phone': '0836912045', 'role': 'ADMIN'}, {'id': '25f5bcef-f1a0-4b03-baf5-3b0a0bec66cb', 'username': 'testusernumber1', 'email': 'testusernumber1@gmail.com', 'password': '12345asd', 'firstname': 'test', 'lastname': 'user', 'phone': '0987345678', 'role': 'STUDENT'}]}\n",
      "loged out\n",
      "\n"
     ]
    }
   ],
   "source": [
    "# register\n",
    "import requests\n",
    "session = requests.Session()\n",
    "\n",
    "def register(data, session):\n",
    "    session.post(\"http://localhost:8090/register\", json=data)\n",
    "    return session\n",
    "\n",
    "url = \"/users\"\n",
    "data = {\n",
    "    \"username\" : \"testusernumber1\",\n",
    "    \"email\" : \"testusernumber1@gmail.com\",\n",
    "    \"password\" : \"12345asd\",\n",
    "    \"firstname\" : \"test\",\n",
    "    \"lastname\" : \"user\",\n",
    "    \"phone\" : \"0987345678\"\n",
    "}\n",
    "\n",
    "\n",
    "# newSession = register(data, session)\n",
    "newSession = session\n",
    "\n",
    "print(\"loged in\")\n",
    "logedInSession = login(\"mikedsttheadmin\", \"12345asd\", newSession)\n",
    "print(getMethod(url, logedInSession))\n",
    "\n",
    "print(\"loged out\")\n",
    "logedOutSession = logout(logedInSession)\n",
    "print(getMethod(url, logedInSession))"
   ]
  },
  {
   "cell_type": "markdown",
   "metadata": {},
   "source": [
    "# CLASS"
   ]
  },
  {
   "cell_type": "code",
   "execution_count": null,
   "metadata": {},
   "outputs": [],
   "source": []
  },
  {
   "cell_type": "markdown",
   "metadata": {},
   "source": [
    "# SUBJECT"
   ]
  },
  {
   "cell_type": "code",
   "execution_count": 36,
   "metadata": {},
   "outputs": [
    {
     "data": {
      "text/plain": [
       "{'timestamp': '2025-03-08T09:38:05.480+00:00',\n",
       " 'message': 'Operation successful',\n",
       " 'data': [{'id': '96bf77a2-92b1-4235-b896-af1e7901cd52', 'name': 'Math'},\n",
       "  {'id': '819f9314-6287-4a27-bfb7-4fee38e75ff7', 'name': 'English'},\n",
       "  {'id': 'c0551bab-1fea-4bac-a7bb-ee908816f3e7', 'name': 'Science'},\n",
       "  {'id': '166d12ac-7ffb-49b5-b182-8a0637a1a8e7', 'name': 'Music'},\n",
       "  {'id': '7f64b689-2c00-4d5c-87d9-09e9eddb0b48', 'name': 'History'}]}"
      ]
     },
     "execution_count": 36,
     "metadata": {},
     "output_type": "execute_result"
    }
   ],
   "source": [
    "import requests\n",
    "session = requests.Session()\n",
    "\n",
    "logedInSession = login(\"mikedsttheadmin\", \"12345asd\", session)\n",
    "url = \"/subject\"\n",
    "\n",
    "# GET ALLS\n",
    "def getAlls(url, logedInSession):\n",
    "    url = url + \"s\"\n",
    "    return getMethod(url, logedInSession)\n",
    "\n",
    "# CREATE\n",
    "def create(url, logedInSession):\n",
    "    url = url + \"/create\"\n",
    "    data = {\n",
    "        'name': \"English\", \n",
    "    }\n",
    "    postMethod(url, logedInSession, data)\n",
    "\n",
    "\n",
    "getAlls(url, logedInSession)"
   ]
  },
  {
   "cell_type": "markdown",
   "metadata": {},
   "source": [
    "# ATTENDANCE"
   ]
  },
  {
   "cell_type": "code",
   "execution_count": null,
   "metadata": {},
   "outputs": [],
   "source": []
  },
  {
   "cell_type": "markdown",
   "metadata": {},
   "source": [
    "# Get bean"
   ]
  },
  {
   "cell_type": "code",
   "execution_count": null,
   "metadata": {},
   "outputs": [
    {
     "data": {
      "text/plain": [
       "{'timestamp': '2025-03-07T03:30:38.405+00:00',\n",
       " 'message': 'Operation successful',\n",
       " 'data': [{'id': '2a57e313-a4bc-417a-b51a-8bac10109c62',\n",
       "   'name': 'Dusk Bean',\n",
       "   'in_stock': True,\n",
       "   'price': 19.67,\n",
       "   'sold': 0,\n",
       "   'publish_date': '2024-12-26T00:00:00'},\n",
       "  {'id': '72912ff0-7ec7-407e-a692-42850103407a',\n",
       "   'name': 'Nian Bean',\n",
       "   'in_stock': True,\n",
       "   'price': 19.67,\n",
       "   'sold': 0,\n",
       "   'publish_date': '2024-12-26T00:00:00'},\n",
       "  {'id': '945e17be-d3a9-47be-9b13-d1a55154e7cd',\n",
       "   'name': 'Ling Bean',\n",
       "   'in_stock': True,\n",
       "   'price': 19.67,\n",
       "   'sold': 0,\n",
       "   'publish_date': '2024-12-26T00:00:00'},\n",
       "  {'id': 'fef02f13-dac4-40a6-bd30-eb007b87259a',\n",
       "   'name': 'Shu Bean',\n",
       "   'in_stock': True,\n",
       "   'price': 19.67,\n",
       "   'sold': 0,\n",
       "   'publish_date': '2024-12-26T00:00:00'}]}"
      ]
     },
     "execution_count": 70,
     "metadata": {},
     "output_type": "execute_result"
    }
   ],
   "source": [
    "# Get all beans\n",
    "import requests\n",
    "session = requests.Session()\n",
    "\n",
    "logedInSession = login(\"mikedsttheadmin\", \"12345asd\", session)\n",
    "\n",
    "getMethod(\"/beans\", logedInSession)"
   ]
  },
  {
   "cell_type": "code",
   "execution_count": 71,
   "metadata": {},
   "outputs": [
    {
     "data": {
      "text/plain": [
       "{'timestamp': '2025-03-07T03:31:21.089+00:00',\n",
       " 'message': 'Operation successful',\n",
       " 'data': {'id': '945e17be-d3a9-47be-9b13-d1a55154e7cd',\n",
       "  'name': 'Ling Bean',\n",
       "  'in_stock': True,\n",
       "  'price': 19.67,\n",
       "  'sold': 0,\n",
       "  'publish_date': '2024-12-26T00:00:00'}}"
      ]
     },
     "execution_count": 71,
     "metadata": {},
     "output_type": "execute_result"
    }
   ],
   "source": [
    "# Get bean with ID\n",
    "import requests\n",
    "session = requests.Session()\n",
    "\n",
    "logedInSession = login(\"mikedsttheadmin\", \"12345asd\", session)\n",
    "\n",
    "getMethod(\"/beans/945e17be-d3a9-47be-9b13-d1a55154e7cd\", logedInSession)"
   ]
  }
 ],
 "metadata": {
  "kernelspec": {
   "display_name": "Python 3",
   "language": "python",
   "name": "python3"
  },
  "language_info": {
   "codemirror_mode": {
    "name": "ipython",
    "version": 3
   },
   "file_extension": ".py",
   "mimetype": "text/x-python",
   "name": "python",
   "nbconvert_exporter": "python",
   "pygments_lexer": "ipython3",
   "version": "3.10.11"
  }
 },
 "nbformat": 4,
 "nbformat_minor": 2
}
