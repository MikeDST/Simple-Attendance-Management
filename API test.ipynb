{
 "cells": [
  {
   "cell_type": "markdown",
   "metadata": {},
   "source": [
    "TEST"
   ]
  },
  {
   "cell_type": "code",
   "execution_count": null,
   "metadata": {},
   "outputs": [],
   "source": [
    "import requests\n",
    "session = requests.Session()\n",
    "\n",
    "data = {\n",
    "    'username': 'mikedsttheadmin', \n",
    "    'password': '12345asd'\n",
    "    }\n",
    "response = session.post(\"http://localhost:8090/signin\", json=data)\n",
    "print(response)\n",
    "\n",
    "response2 = session.get(\"http://localhost:8090/subjects\")\n",
    "response2.text"
   ]
  },
  {
   "cell_type": "markdown",
   "metadata": {},
   "source": [
    "# API TEST"
   ]
  },
  {
   "cell_type": "code",
   "execution_count": 1,
   "metadata": {},
   "outputs": [],
   "source": [
    "import requests\n",
    "\n",
    "def getMethod(mapping, session):\n",
    "    response = session.get(\"http://localhost:8090\" + mapping)\n",
    "\n",
    "    try:\n",
    "        data = response.json()\n",
    "    except requests.JSONDecodeError:\n",
    "        data = response.text\n",
    "    return data\n",
    "\n",
    "\n",
    "def postMethod(mapping, session, data):\n",
    "    response = session.post(\"http://localhost:8090\" + mapping, json=data)\n",
    "\n",
    "    try:\n",
    "        data = response.json()\n",
    "    except requests.JSONDecodeError:\n",
    "        data = None\n",
    "    return data\n",
    "\n",
    "def putMethod(mapping, session):\n",
    "    response = session.put(\"http://localhost:8090\" + mapping)\n",
    "\n",
    "    try:\n",
    "        data = response.json()\n",
    "    except requests.JSONDecodeError:\n",
    "        data = None\n",
    "    return data\n",
    "\n",
    "def deleteMethod(mapping, session):\n",
    "    response = session.delete(\"http://localhost:8090\" + mapping)\n",
    "\n",
    "    try:\n",
    "        data = response.json()\n",
    "    except requests.JSONDecodeError:\n",
    "        data = None\n",
    "    return data"
   ]
  },
  {
   "cell_type": "markdown",
   "metadata": {},
   "source": [
    "# USERS"
   ]
  },
  {
   "cell_type": "code",
   "execution_count": 2,
   "metadata": {},
   "outputs": [],
   "source": [
    "# login\n",
    "def login(username, password, session):\n",
    "    data = {\n",
    "    'username': username, \n",
    "    'password': password\n",
    "    }\n",
    "    session.post(\"http://localhost:8090/login\", json=data)\n",
    "    return session"
   ]
  },
  {
   "cell_type": "code",
   "execution_count": 3,
   "metadata": {},
   "outputs": [],
   "source": [
    "# logout\n",
    "def logout(session):\n",
    "    session.post(\"http://localhost:8090/logout\")\n",
    "    return session"
   ]
  },
  {
   "cell_type": "code",
   "execution_count": 4,
   "metadata": {},
   "outputs": [
    {
     "data": {
      "text/plain": [
       "{'timestamp': '2025-03-09T05:00:35.152+00:00',\n",
       " 'message': 'Operation successful',\n",
       " 'data': [{'id': '63681b95-ad84-49a0-ab5b-f70ef5c7857b',\n",
       "   'username': 'mikedsttheadmin',\n",
       "   'email': 'mikedst@admin.com',\n",
       "   'password': '$2a$12$iHt6emfLK5/TLGrlDYfUQ.3U1.IzqhUWdCJ80XylQDGZUNGU6qjg.',\n",
       "   'firstname': 'Mikey',\n",
       "   'lastname': 'The Mu',\n",
       "   'phone': '0836912045',\n",
       "   'role': 'ADMIN'},\n",
       "  {'id': '9a73521e-6481-4637-baf7-ced191b8e715',\n",
       "   'username': 'testusernumber2',\n",
       "   'email': 'testusernumber2@gmail.com',\n",
       "   'password': '$2a$10$q.xZMye4wAmK458Gklyf0.Ds22vvqaV03kZ90o.R7P2T2REZBBae.',\n",
       "   'firstname': 'test',\n",
       "   'lastname': 'user 2',\n",
       "   'phone': '0987345678',\n",
       "   'role': 'STUDENT'},\n",
       "  {'id': '67995ed4-1dfe-4235-b8ca-c9cab9733973',\n",
       "   'username': 'testteacher',\n",
       "   'email': 'testteacher@gmail.com',\n",
       "   'password': '$2a$10$rFOou6Uwzk9NeBoRh0cJY.0TPT.rwfy6dkyLW9WQBWZ/1.bklC6lu',\n",
       "   'firstname': 'Test',\n",
       "   'lastname': 'Teacher',\n",
       "   'phone': '0987345678',\n",
       "   'role': 'TEACHER'}]}"
      ]
     },
     "execution_count": 4,
     "metadata": {},
     "output_type": "execute_result"
    }
   ],
   "source": [
    "# register\n",
    "import requests\n",
    "session = requests.Session()\n",
    "\n",
    "def register(data, session):\n",
    "    session.post(\"http://localhost:8090/register\", json=data)\n",
    "    return session\n",
    "\n",
    "url = \"/users\"\n",
    "data = {\n",
    "    \"username\" : \"testteacher\",\n",
    "    \"email\" : \"testteacher@gmail.com\",\n",
    "    \"password\" : \"12345asd\",\n",
    "    \"firstname\" : \"Test\",\n",
    "    \"lastname\" : \"Teacher\",\n",
    "    \"phone\" : \"0987345678\"\n",
    "}\n",
    "\n",
    "\n",
    "# newSession = register(data, session)\n",
    "newSession = session\n",
    "\n",
    "logedInSession = login(\"mikedsttheadmin\", \"12345asd\", newSession)\n",
    "getMethod(url, logedInSession)"
   ]
  },
  {
   "cell_type": "code",
   "execution_count": 22,
   "metadata": {},
   "outputs": [
    {
     "data": {
      "text/plain": [
       "{'timestamp': '2025-03-09T03:33:51.250+00:00',\n",
       " 'message': 'Operation successful',\n",
       " 'data': [{'id': '63681b95-ad84-49a0-ab5b-f70ef5c7857b',\n",
       "   'username': 'mikedsttheadmin',\n",
       "   'email': 'mikedst@admin.com',\n",
       "   'password': '$2a$12$iHt6emfLK5/TLGrlDYfUQ.3U1.IzqhUWdCJ80XylQDGZUNGU6qjg.',\n",
       "   'firstname': 'Mikey',\n",
       "   'lastname': 'The Mu',\n",
       "   'phone': '0836912045',\n",
       "   'role': 'ADMIN'},\n",
       "  {'id': '9a73521e-6481-4637-baf7-ced191b8e715',\n",
       "   'username': 'testusernumber2',\n",
       "   'email': 'testusernumber2@gmail.com',\n",
       "   'password': '$2a$10$q.xZMye4wAmK458Gklyf0.Ds22vvqaV03kZ90o.R7P2T2REZBBae.',\n",
       "   'firstname': 'test',\n",
       "   'lastname': 'user 2',\n",
       "   'phone': '0987345678',\n",
       "   'role': 'STUDENT'},\n",
       "  {'id': '67995ed4-1dfe-4235-b8ca-c9cab9733973',\n",
       "   'username': 'testteacher',\n",
       "   'email': 'testteacher@gmail.com',\n",
       "   'password': '$2a$10$rFOou6Uwzk9NeBoRh0cJY.0TPT.rwfy6dkyLW9WQBWZ/1.bklC6lu',\n",
       "   'firstname': 'Test',\n",
       "   'lastname': 'Teacher',\n",
       "   'phone': '0987345678',\n",
       "   'role': 'TEACHER'}]}"
      ]
     },
     "execution_count": 22,
     "metadata": {},
     "output_type": "execute_result"
    }
   ],
   "source": [
    "# create\n",
    "import requests\n",
    "session = requests.Session()\n",
    "\n",
    "def createUser(data, session):\n",
    "    session.post(\"http://localhost:8090/user/create\", json=data)\n",
    "    return session\n",
    "\n",
    "url = \"/users\"\n",
    "data = {\n",
    "    \"username\" : \"testteacher\",\n",
    "    \"email\" : \"testteacher@gmail.com\",\n",
    "    \"password\" : \"12345asd\",\n",
    "    \"firstname\" : \"Test\",\n",
    "    \"lastname\" : \"Teacher\",\n",
    "    \"phone\" : \"0987345678\",\n",
    "    \"role\" : \"TEACHER\"\n",
    "}\n",
    "\n",
    "logedInSession = login(\"mikedsttheadmin\", \"12345asd\", newSession)\n",
    "\n",
    "newSession = createUser(data, logedInSession)\n",
    "# newSession = session\n",
    "\n",
    "getMethod(url, newSession)"
   ]
  },
  {
   "cell_type": "code",
   "execution_count": 14,
   "metadata": {},
   "outputs": [
    {
     "data": {
      "text/plain": [
       "{'timestamp': '2025-03-09T03:20:06.009+00:00',\n",
       " 'message': 'Subject has been deleted successfully',\n",
       " 'data': None}"
      ]
     },
     "execution_count": 14,
     "metadata": {},
     "output_type": "execute_result"
    }
   ],
   "source": [
    "# delete\n",
    "import requests\n",
    "session = requests.Session()\n",
    "url = \"/user/delete/3e305a2c-aa71-4ed4-a6b0-2d78a7b1bc9b\"\n",
    "\n",
    "logedInSession = login(\"mikedsttheadmin\", \"12345asd\", newSession)\n",
    "deleteMethod(url, logedInSession)"
   ]
  },
  {
   "cell_type": "markdown",
   "metadata": {},
   "source": [
    "# CLASS"
   ]
  },
  {
   "cell_type": "code",
   "execution_count": null,
   "metadata": {},
   "outputs": [
    {
     "data": {
      "text/plain": [
       "{'timestamp': '2025-03-09T05:07:31.265+00:00',\n",
       " 'message': 'No class has been found',\n",
       " 'details': 'uri=/teacher/classes/66995ed4-1dfe-4235-b8ca-c9cab9733973'}"
      ]
     },
     "execution_count": 7,
     "metadata": {},
     "output_type": "execute_result"
    }
   ],
   "source": [
    "import datetime\n",
    "    \n",
    "import requests\n",
    "session = requests.Session()\n",
    "\n",
    "logedInSession = login(\"mikedsttheadmin\", \"12345asd\", session)\n",
    "url = \"/class\"\n",
    "\n",
    "# GET ALLS\n",
    "def getAlls(url, logedInSession):\n",
    "    url = url + \"es\"\n",
    "    return getMethod(url, logedInSession)\n",
    "\n",
    "# GET MINE\n",
    "def getMyClasses(url, id, logedInSession):\n",
    "    url = \"/teacher\" + url + \"es/\" + id \n",
    "    return getMethod(url, logedInSession)\n",
    "\n",
    "# CREATE\n",
    "def create(url, logedInSession):\n",
    "    url = url + \"/create\"\n",
    "    data = {\n",
    "        'name': \"English class\",\n",
    "        'startdate' : datetime.datetime.now().isoformat(),\n",
    "        'teacherid' : '67995ed4-1dfe-4235-b8ca-c9cab9733973',\n",
    "        'subjectid' : '819f9314-6287-4a27-bfb7-4fee38e75ff7'\n",
    "    }\n",
    "    return postMethod(url, logedInSession, data)\n",
    "\n",
    "\n",
    "getMyClasses(url, \"67995ed4-1dfe-4235-b8ca-c9cab9733973\", logedInSession)"
   ]
  },
  {
   "cell_type": "markdown",
   "metadata": {},
   "source": [
    "# SUBJECT"
   ]
  },
  {
   "cell_type": "code",
   "execution_count": null,
   "metadata": {},
   "outputs": [
    {
     "data": {
      "text/plain": [
       "{'timestamp': '2025-03-09T03:34:10.185+00:00',\n",
       " 'message': 'Operation successful',\n",
       " 'data': [{'id': '96bf77a2-92b1-4235-b896-af1e7901cd52', 'name': 'Math'},\n",
       "  {'id': '819f9314-6287-4a27-bfb7-4fee38e75ff7', 'name': 'English'},\n",
       "  {'id': 'c0551bab-1fea-4bac-a7bb-ee908816f3e7', 'name': 'Science'},\n",
       "  {'id': '166d12ac-7ffb-49b5-b182-8a0637a1a8e7', 'name': 'Music'},\n",
       "  {'id': '7f64b689-2c00-4d5c-87d9-09e9eddb0b48', 'name': 'History'}]}"
      ]
     },
     "execution_count": 23,
     "metadata": {},
     "output_type": "execute_result"
    }
   ],
   "source": [
    "import requests\n",
    "session = requests.Session()\n",
    "\n",
    "logedInSession = login(\"mikedsttheadmin\", \"12345asd\", session)\n",
    "url = \"/subject\"\n",
    "\n",
    "# GET ALLS\n",
    "def getAlls(url, logedInSession):\n",
    "    url = url + \"s\"\n",
    "    return getMethod(url, logedInSession)\n",
    "\n",
    "# CREATE\n",
    "def create(url, logedInSession):\n",
    "    url = url + \"/create\"\n",
    "    data = {\n",
    "        'name': \"English\", \n",
    "    }\n",
    "    return postMethod(url, logedInSession, data)\n",
    "\n",
    "\n",
    "getAlls(url, logedInSession)"
   ]
  },
  {
   "cell_type": "markdown",
   "metadata": {},
   "source": [
    "# ATTENDANCE"
   ]
  },
  {
   "cell_type": "code",
   "execution_count": null,
   "metadata": {},
   "outputs": [],
   "source": []
  },
  {
   "cell_type": "markdown",
   "metadata": {},
   "source": [
    "# Get bean"
   ]
  },
  {
   "cell_type": "code",
   "execution_count": null,
   "metadata": {},
   "outputs": [
    {
     "data": {
      "text/plain": [
       "{'timestamp': '2025-03-07T03:30:38.405+00:00',\n",
       " 'message': 'Operation successful',\n",
       " 'data': [{'id': '2a57e313-a4bc-417a-b51a-8bac10109c62',\n",
       "   'name': 'Dusk Bean',\n",
       "   'in_stock': True,\n",
       "   'price': 19.67,\n",
       "   'sold': 0,\n",
       "   'publish_date': '2024-12-26T00:00:00'},\n",
       "  {'id': '72912ff0-7ec7-407e-a692-42850103407a',\n",
       "   'name': 'Nian Bean',\n",
       "   'in_stock': True,\n",
       "   'price': 19.67,\n",
       "   'sold': 0,\n",
       "   'publish_date': '2024-12-26T00:00:00'},\n",
       "  {'id': '945e17be-d3a9-47be-9b13-d1a55154e7cd',\n",
       "   'name': 'Ling Bean',\n",
       "   'in_stock': True,\n",
       "   'price': 19.67,\n",
       "   'sold': 0,\n",
       "   'publish_date': '2024-12-26T00:00:00'},\n",
       "  {'id': 'fef02f13-dac4-40a6-bd30-eb007b87259a',\n",
       "   'name': 'Shu Bean',\n",
       "   'in_stock': True,\n",
       "   'price': 19.67,\n",
       "   'sold': 0,\n",
       "   'publish_date': '2024-12-26T00:00:00'}]}"
      ]
     },
     "execution_count": 70,
     "metadata": {},
     "output_type": "execute_result"
    }
   ],
   "source": [
    "# Get all beans\n",
    "import requests\n",
    "session = requests.Session()\n",
    "\n",
    "logedInSession = login(\"mikedsttheadmin\", \"12345asd\", session)\n",
    "\n",
    "getMethod(\"/beans\", logedInSession)"
   ]
  },
  {
   "cell_type": "code",
   "execution_count": 71,
   "metadata": {},
   "outputs": [
    {
     "data": {
      "text/plain": [
       "{'timestamp': '2025-03-07T03:31:21.089+00:00',\n",
       " 'message': 'Operation successful',\n",
       " 'data': {'id': '945e17be-d3a9-47be-9b13-d1a55154e7cd',\n",
       "  'name': 'Ling Bean',\n",
       "  'in_stock': True,\n",
       "  'price': 19.67,\n",
       "  'sold': 0,\n",
       "  'publish_date': '2024-12-26T00:00:00'}}"
      ]
     },
     "execution_count": 71,
     "metadata": {},
     "output_type": "execute_result"
    }
   ],
   "source": [
    "# Get bean with ID\n",
    "import requests\n",
    "session = requests.Session()\n",
    "\n",
    "logedInSession = login(\"mikedsttheadmin\", \"12345asd\", session)\n",
    "\n",
    "getMethod(\"/beans/945e17be-d3a9-47be-9b13-d1a55154e7cd\", logedInSession)"
   ]
  }
 ],
 "metadata": {
  "kernelspec": {
   "display_name": "Python 3",
   "language": "python",
   "name": "python3"
  },
  "language_info": {
   "codemirror_mode": {
    "name": "ipython",
    "version": 3
   },
   "file_extension": ".py",
   "mimetype": "text/x-python",
   "name": "python",
   "nbconvert_exporter": "python",
   "pygments_lexer": "ipython3",
   "version": "3.10.11"
  }
 },
 "nbformat": 4,
 "nbformat_minor": 2
}
